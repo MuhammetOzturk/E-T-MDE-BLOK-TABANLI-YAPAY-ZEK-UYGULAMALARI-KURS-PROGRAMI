{
 "cells": [
  {
   "cell_type": "markdown",
   "id": "0c56848e-93f2-4ab3-8d44-2ae28edb1cc7",
   "metadata": {},
   "source": [
    "## Algoritma ve Blok Kullanimi Sorulari\n",
    "\n",
    "**1. Kuklayı 10'ar adımlarla kare şeklinde dolandırıp başladığı konuma getiren kod bloklarını tasarlayınız.**  \n",
    "**2. Kukla kullanıcıya ism ve soyisim sorsun sonrasında ekrana \"Merhaba Hoşgeldiniz. <İsim> <Soyisim>\" şeklinde ekrana yazdıran blokları tasarlayınız.**\n",
    "**3. Kuklayı 4 kere rastgele pozisyonlara gönderen blokları tasarlayınız.**  \n",
    "**4. Kuklayı 0,0 noktasından y = x^2 + 1 grafiğine uygun şekilde 10 kere hareket ettiriniz. x değerini 0.2 adımlarla artırınız.**   \n",
    "**5. 5'in 1-10'a kadar olan aralıkta çarpım tablosunu ekrana yazdıralım.**  \n",
    "\n",
    "\n",
    "---\n",
    "\n",
    "**Nesne tanıma uygulaması yapalım. Her örnekten en az 25 tane olacak.**  \n",
    "**Burunun olduğu konuma top koyan uygulamayı incele ve kod bloklarını açıkla.**  \n",
    "**Uygulamada topun boyutunu %20 küçülterek gözlere yerleştirilmesini sağla.**  \n",
    "**Yuz tanıma uygulaması yap.**  \n",
    "**Kayıtlı kişi tespit edilemediğinde \"Kişi tespit edilemedi!\" şeklinde uyarı versin.**\n"
   ]
  }
 ],
 "metadata": {
  "kernelspec": {
   "display_name": "Python 3 (ipykernel)",
   "language": "python",
   "name": "python3"
  },
  "language_info": {
   "codemirror_mode": {
    "name": "ipython",
    "version": 3
   },
   "file_extension": ".py",
   "mimetype": "text/x-python",
   "name": "python",
   "nbconvert_exporter": "python",
   "pygments_lexer": "ipython3",
   "version": "3.11.8"
  }
 },
 "nbformat": 4,
 "nbformat_minor": 5
}
