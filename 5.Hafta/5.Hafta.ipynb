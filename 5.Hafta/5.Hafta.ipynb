{
 "cells": [
  {
   "cell_type": "markdown",
   "id": "c30050a2-f6da-4197-8ce8-2b6530af8fb1",
   "metadata": {},
   "source": [
    "## Algoritma Sorulari\n",
    "1. 1-20 araligindaki tek sayilari bulunuz.\n",
    "2. 1-20 araligindaki cift sayilari bulunuz.\n",
    "3. 1-100 araligindaki asal sayilari bulunuz.\n",
    "4. Klavyeden girilen degerin polindrom olup olmadigini kontrol ediniz.\n",
    "   Ornegin input:1221 ouput: polindromdur.\n",
    "           input: yapay output: polindromdur.\n",
    "           input: kelime output: polindrom degildir.\n",
    "5. Klavyeden girilen sayinin tam bolenlerini listeleyen bloklari tasarlayiniz."
   ]
  },
  {
   "cell_type": "markdown",
   "id": "7890a282-b5d3-4985-bb14-a0ab3ecfd8c1",
   "metadata": {},
   "source": [
    "Genel tekrar ve yapilmis uygulamarin incelenmesi."
   ]
  },
  {
   "cell_type": "markdown",
   "id": "f701e273-a264-43e4-bd73-f495e7869b60",
   "metadata": {},
   "source": [
    "## Birlikte yapilacak\n",
    "1. Potansiyometre ile sicaklik kontrol uygulamasi yapalim.\n",
    "2. Teachable machine kullanarak kamera uzerinden led kontrolu yapalim.\n",
    "3. Buzzer uygulamasi yapalim.\n",
    "4. Yuz kayit uygulamasi yapalim.\n",
    "   "
   ]
  },
  {
   "cell_type": "markdown",
   "id": "df2a4241-173d-4496-9d52-e22d890573f1",
   "metadata": {},
   "source": [
    "## Uygulama Sorusu\n",
    "1. Iki yuz kaydedin , bu iki yuz icin farkli parolalar belirleyin ve ekrandaki yuz icin uygun parolanin girilmesi bekleyen programi\n",
    "tasarlayiniz. Basarili veya basarisiz giriste 4x4 ekranda durumu bildiriniz.\n",
    "\n",
    "2. Basarili giriste ledi kontrol edip veya sicaklik sensorunden bilgi aliniz.\n",
    "   Led kontrolunu ac-kapa veya azalt veya cogalt seklinden parmak hareketleri ile kontrol ediniz.\n",
    "\n",
    "3. Basarili giriste buzzeri calistiriniz.\n",
    "\n",
    "4. Keypadde girilen degeri 16x2 ekranda gosteriniz.Her tus vurusunda buzzeri calistiriniz."
   ]
  }
 ],
 "metadata": {
  "kernelspec": {
   "display_name": "Python 3 (ipykernel)",
   "language": "python",
   "name": "python3"
  },
  "language_info": {
   "codemirror_mode": {
    "name": "ipython",
    "version": 3
   },
   "file_extension": ".py",
   "mimetype": "text/x-python",
   "name": "python",
   "nbconvert_exporter": "python",
   "pygments_lexer": "ipython3",
   "version": "3.11.8"
  }
 },
 "nbformat": 4,
 "nbformat_minor": 5
}
