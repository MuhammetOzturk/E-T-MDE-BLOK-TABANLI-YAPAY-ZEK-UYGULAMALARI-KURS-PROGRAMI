{
 "cells": [
  {
   "cell_type": "markdown",
   "id": "120604a6-f012-4be8-be39-ff43b09d812d",
   "metadata": {},
   "source": [
    "\n",
    "---\n",
    "\n",
    "**İş Sağlığı ve Güvenliğinin Önemi ve Amacı**\n",
    "\n",
    "İş sağlığı ve güvenliği, çalışanların en temel haklarından biridir ve iş yerlerinde sağlıklı ve güvenli bir çalışma ortamı sağlamak için alınması gereken önlemleri kapsar. İş sağlığı ve güvenliği konusundaki bilinç ve önem, hem çalışanların hem de işverenlerin sorumluluğundadır ve bu alandaki uygulamaların düzenli olarak gözden geçirilmesi ve iyileştirilmesi gerekmektedir.\n",
    "\n",
    "**İş Sağlığı ve Güvenliğinin Önemi:**\n",
    "\n",
    "1. **Çalışan Sağlığının Korunması:** İSG uygulamaları, çalışanların fiziksel, ruhsal ve sosyal sağlığını korumayı amaçlar. Güvenli bir çalışma ortamı sağlanarak iş kazaları ve meslek hastalıkları riski en aza indirgenir.\n",
    "\n",
    "2. **Üretkenlik ve Performans Artışı:** Sağlıklı ve güvenli bir çalışma ortamı, çalışanların motivasyonunu artırır ve iş performansını olumlu yönde etkiler. Sağlıklı çalışanlar, daha verimli ve etkili bir şekilde işlerini yaparlar.\n",
    "\n",
    "3. **Maliyet Tasarrufu:** İSG uygulamaları, iş kazaları ve meslek hastalıkları nedeniyle oluşabilecek maliyetleri azaltır. Çalışanların sağlıklı kalması, iş verimliliğini artırır ve sağlık harcamalarını azaltır.\n",
    "\n",
    "4. **Kurumsal İmajın Güçlenmesi:** İş sağlığı ve güvenliği konusundaki başarılı uygulamalar, işletmelerin kurumsal imajını güçlendirir. Çalışanların sağlığını ve güvenliğini önemseyen bir işveren olarak tanınmak, işletme için olumlu bir görüntü oluşturur.\n",
    "\n",
    "**İş Sağlığı ve Güvenliğinin Amacı:**\n",
    "\n",
    "1. **Risklerin Belirlenmesi:** İSG çalışmaları, iş yerlerindeki potansiyel riskleri belirlemeyi ve değerlendirmeyi amaçlar. Bu sayede riskli durumlar önceden tespit edilerek önlemler alınabilir.\n",
    "\n",
    "2. **Önleme ve Koruma:** İSG, iş kazalarını ve meslek hastalıklarını önlemeyi ve çalışanları bu tür risklerden korumayı hedefler. Bu kapsamda, koruyucu ekipmanlar, eğitim programları ve güvenli çalışma prosedürleri gibi önlemler alınır.\n",
    "\n",
    "3. **Eğitim ve Bilinçlendirme:** Çalışanlara İSG konusunda düzenli eğitimler verilerek bilinçlendirilirler. Bu eğitimler, çalışanların riskleri tanımasını, güvenli çalışma yöntemlerini öğrenmesini ve acil durumlara nasıl tepki vereceklerini bilmesini sağlar.\n",
    "\n",
    "4. **Düzenli Değerlendirme ve İyileştirme:** İSG süreçleri düzenli olarak gözden geçirilir ve değerlendirilir. İyileştirme fırsatları belirlenerek sürekli bir gelişim sağlanır ve en iyi uygulamaların benimsenmesi teşvik edilir.\n",
    "\n",
    "İş sağlığı ve güvenliği, hem çalışanların sağlığını korumak hem de işletmelerin sürdürülebilirliğini ve başarısını artırmak için kritik bir öneme sahiptir. İşletmelerin İSG politikalarına uygun hareket etmeleri ve çalışanların bu konuda bilinçlenmeleri, sağlıklı ve güvenli bir çalışma ortamının sağlanmasında önemli bir adımdır.\n",
    "\n",
    "\n",
    "**Elektronik Programlama Ortamlarında İş Sağlığı ve Güvenliği Önlemleri**\n",
    "\n",
    "Elektronik programlama alanında çalışanlar, genellikle bilgisayarlar, devre kartları, elektrikli cihazlar ve bileşenlerle uğraşırlar. Bu nedenle iş sağlığı ve güvenliği konusunda alınması gereken önlemler şunlardır:\n",
    "\n",
    "1. **Eğitim ve Bilinçlendirme:**\n",
    "   Çalışanlar, elektronik güvenlik konusunda düzenli eğitimler almalı ve bilinçlendirilmelidir. Elektrik tehlikeleri, koruyucu ekipmanların kullanımı, acil durum prosedürleri gibi konularda bilgi sahibi olmaları sağlanmalıdır.\n",
    "\n",
    "2. **Koruyucu Ekipmanların Kullanımı:**\n",
    "   Elektronik programlama alanında çalışanlar için uygun koruyucu ekipmanlar sağlanmalıdır. Bu ekipmanlar arasında gözlükler, eldivenler, statik elektrik önleyici önlükler ve antistatik bileklikler bulunabilir.\n",
    "\n",
    "3. **Elektrik Güvenliği:**\n",
    "   Elektrikli cihazların doğru şekilde kullanılması ve monte edilmesi önemlidir. Elektrik çarpması riskini azaltmak için prizlerin topraklı olması, kabloların hasarlı olmaması ve elektrik devrelerinin düzenli olarak kontrol edilmesi gerekmektedir.\n",
    "\n",
    "4. **İş Alanının Düzeni ve Temizliği:**\n",
    "   Elektronik programlama yapılan alanlar düzenli olarak temizlenmeli ve düzenlenmelidir. Kablolardan kaynaklanan potansiyel tehlikeler önlenmeli, çalışma masaları düzenli tutulmalı ve yangın söndürme ekipmanları kolay erişilebilir olmalıdır.\n",
    "\n",
    "5. **Acil Durum Prosedürleri:**\n",
    "   Elektronik programlama ortamlarında acil durum prosedürleri belirlenmeli ve çalışanlar bu prosedürler konusunda eğitilmelidir. Yangın, elektrik çarpması gibi acil durumlar için nasıl tepki verileceği önceden planlanmalıdır.\n",
    "\n",
    "6. **Statik Elektrik Kontrolü:**\n",
    "   Elektronik cihazlarla çalışırken statik elektrik oluşumu önlenmelidir. Antistatik ekipmanlar ve çalışma yüzeyleri kullanılarak statik elektrik tehlikesi azaltılabilir.\n",
    "\n",
    "7. **Göz Sağlığı ve Ergonomi:**\n",
    "   Uzun süre bilgisayar başında çalışanlar için göz sağlığı ve ergonomik çalışma koşulları önemlidir. Aydınlatma düzenlemeleri yapılmalı, ekranların göz seviyesine uygun konumlandırılması sağlanmalıdır.\n",
    "\n",
    "Elektronik programlama alanında çalışanların sağlığı ve güvenliği, işletmenin ve çalışanların sorumluluğundadır. Bu önlemlerin alınması, iş kazalarının ve meslek hastalıklarının önlenmesine yardımcı olur ve çalışma ortamının daha güvenli hale gelmesini sağlar."
   ]
  },
  {
   "cell_type": "markdown",
   "id": "53f20294-5f7e-454a-9827-9b69b6493a1a",
   "metadata": {},
   "source": [
    "**Hatirlatma:**   \n",
    "https://teachablemachine.withgoogle.com/  \n",
    "https://ai2.appinventor.mit.edu/  \n",
    "Neler yapilabilir. Ornekler incelencek.  \n",
    "Calisma prensipleri nasildir tartisilacak.  \n",
    "Ornekler yapilmaya calisilacak.  "
   ]
  }
 ],
 "metadata": {
  "kernelspec": {
   "display_name": "Python 3 (ipykernel)",
   "language": "python",
   "name": "python3"
  },
  "language_info": {
   "codemirror_mode": {
    "name": "ipython",
    "version": 3
   },
   "file_extension": ".py",
   "mimetype": "text/x-python",
   "name": "python",
   "nbconvert_exporter": "python",
   "pygments_lexer": "ipython3",
   "version": "3.11.8"
  }
 },
 "nbformat": 4,
 "nbformat_minor": 5
}
